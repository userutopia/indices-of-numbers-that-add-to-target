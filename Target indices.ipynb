{
 "cells": [
  {
   "cell_type": "code",
   "execution_count": 1,
   "id": "8290ff17",
   "metadata": {},
   "outputs": [],
   "source": [
    "def targinds2(args,target):\n",
    "    \"\"\"if a key is in dictionary(n which is the difference of the iterating object and the target), return value of the key \n",
    "    and the iterating object\"\"\"\n",
    "    \n",
    "    d={}\n",
    "    for i in range(len(args)):\n",
    "        n=target-args[i]\n",
    "        if n in d:\n",
    "            return [d[n],i]\n",
    "        d[args[i]]=i"
   ]
  },
  {
   "cell_type": "code",
   "execution_count": 2,
   "id": "56d09da5",
   "metadata": {},
   "outputs": [
    {
     "data": {
      "text/plain": [
       "[0, 1]"
      ]
     },
     "execution_count": 2,
     "metadata": {},
     "output_type": "execute_result"
    }
   ],
   "source": [
    "targinds2([2,7,11,15],9)"
   ]
  },
  {
   "cell_type": "code",
   "execution_count": 3,
   "id": "da146b7f",
   "metadata": {},
   "outputs": [
    {
     "data": {
      "text/plain": [
       "[0, 1]"
      ]
     },
     "execution_count": 3,
     "metadata": {},
     "output_type": "execute_result"
    }
   ],
   "source": [
    "targinds2([3,3,3],6)"
   ]
  },
  {
   "cell_type": "code",
   "execution_count": null,
   "id": "2630640e",
   "metadata": {},
   "outputs": [],
   "source": []
  }
 ],
 "metadata": {
  "kernelspec": {
   "display_name": "Python 3 (ipykernel)",
   "language": "python",
   "name": "python3"
  },
  "language_info": {
   "codemirror_mode": {
    "name": "ipython",
    "version": 3
   },
   "file_extension": ".py",
   "mimetype": "text/x-python",
   "name": "python",
   "nbconvert_exporter": "python",
   "pygments_lexer": "ipython3",
   "version": "3.9.7"
  }
 },
 "nbformat": 4,
 "nbformat_minor": 5
}
